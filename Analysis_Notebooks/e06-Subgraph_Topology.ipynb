{
 "cells": [
  {
   "cell_type": "markdown",
   "metadata": {
    "ExecuteTime": {
     "end_time": "2016-07-22T13:40:41.554594",
     "start_time": "2016-07-22T13:40:41.548978"
    }
   },
   "source": [
    "# Initialize the Environment"
   ]
  },
  {
   "cell_type": "code",
   "execution_count": 1,
   "metadata": {
    "ExecuteTime": {
     "end_time": "2016-10-28T14:54:36.132362",
     "start_time": "2016-10-28T14:54:16.840675"
    },
    "collapsed": false
   },
   "outputs": [
    {
     "name": "stderr",
     "output_type": "stream",
     "text": [
      "/home1/a/ankk/Developer/miniconda2/envs/cb-resection/lib/python2.7/site-packages/matplotlib/__init__.py:878: UserWarning: axes.color_cycle is deprecated and replaced with axes.prop_cycle; please use the latter.\n",
      "  warnings.warn(self.msg_depr % (key, alt_key))\n"
     ]
    }
   ],
   "source": [
    "try:\n",
    "    %load_ext autoreload\n",
    "    %autoreload 2\n",
    "    \n",
    "except:\n",
    "    print 'NOT IPYTHON'\n",
    "\n",
    "from __future__ import division\n",
    "from IPython.display import display\n",
    "\n",
    "import os\n",
    "#os.environ['MKL_NUM_THREADS'] = '1'\n",
    "import sys\n",
    "import glob\n",
    "import json\n",
    "import subprocess\n",
    "from multiprocessing import Pool\n",
    "\n",
    "import numpy as np\n",
    "import pandas as pd\n",
    "import seaborn as sns\n",
    "import scipy.io as io\n",
    "import scipy.sparse as sp\n",
    "import scipy.signal as sig\n",
    "from sklearn import manifold\n",
    "import h5py\n",
    "\n",
    "import matplotlib as mpl\n",
    "import matplotlib.pyplot as plt\n",
    "from matplotlib import rcParams\n",
    "\n",
    "import fig_plotting\n",
    "rcParams = fig_plotting.update_rcparams(rcParams)\n",
    "\n",
    "import scipy.stats as stats\n",
    "\n",
    "os.chdir('../')\n",
    "import Codebase\n",
    "conv_adj_matr_to_cfg_matr = Codebase.Networks.configuration.convert_adj_matr_to_cfg_matr\n",
    "conv_cfg_vec_to_adj_matr = Codebase.Networks.configuration.convert_conn_vec_to_adj_matr\n",
    "from Codebase.Networks.SubgraphDetection.nonnegfac import nmf\n",
    "os.chdir('./Analysis_Notebooks/')\n",
    "\n",
    "path_MetaData = '/home1/a/ankk/LittHome/Remotes/CORE.ieeg_ltm.multiinst/Raw_Neocortical'\n",
    "path_CoreData = '/home1/a/ankk/LittHome/Remotes/CORE.ieeg_ltm.multiinst/Dyne_Neocortical/FuncConn.XCorr_WideBand.4_115/network'\n",
    "path_PeriphData = '/home1/a/ankk/LittHome/Remotes/RSRCH.InterictalSubgraph'\n",
    "path_InpData_Cons = path_PeriphData + '/ds-e03-NMF_Consensus'\n",
    "path_InpData_Cocl = path_PeriphData + '/ds-e04-NMF_CoCluster'\n",
    "path_ExpData = path_PeriphData + '/ds-e06-Subgraph_Topology'\n",
    "\n",
    "for path in [path_CoreData, path_PeriphData, path_ExpData]:\n",
    "    if not os.path.exists(path):\n",
    "        print('Path: {}, does not exist'.format(path))\n",
    "        os.makedirs(path)"
   ]
  },
  {
   "cell_type": "markdown",
   "metadata": {
    "collapsed": true
   },
   "source": [
    "# Generate Data List"
   ]
  },
  {
   "cell_type": "code",
   "execution_count": 4,
   "metadata": {
    "ExecuteTime": {
     "end_time": "2016-10-28T15:00:56.227828",
     "start_time": "2016-10-28T14:59:32.379402"
    },
    "collapsed": false
   },
   "outputs": [
    {
     "name": "stdout",
     "output_type": "stream",
     "text": [
      "HUP64\n",
      "HUP65\n",
      "HUP68\n",
      "HUP70\n",
      "No SOZ\n",
      "HUP72\n",
      "HUP73\n",
      "HUP78\n",
      "No SOZ\n",
      "HUP79\n",
      "HUP86\n",
      "HUP87\n",
      "MAYO004\n",
      "MAYO006\n",
      "MAYO010\n",
      "MAYO011\n",
      "MAYO012\n",
      "No SOZ\n",
      "MAYO014\n",
      "No SOZ\n",
      "MAYO016\n",
      "MAYO019\n",
      "MAYO020\n",
      "MAYO023\n",
      "MAYO026\n",
      "MAYO028\n",
      "No SOZ\n",
      "MAYO030\n",
      "MAYO031\n",
      "MAYO033\n",
      "Diffuse Onset\n",
      "MAYO037\n"
     ]
    }
   ],
   "source": [
    "# Get clinical_metadata\n",
    "df_meta = h5py.File('{}/clinical_metadata.mat'.format(path_MetaData), 'r')\n",
    "meta_subj = [''.join(unichr(c) for c in df_meta[r])\n",
    "             for r in df_meta['subject']['ID'][:, 0]]\n",
    "\n",
    "\n",
    "subj_dict = {}\n",
    "for subj_ii, subj_id in enumerate(meta_subj):        \n",
    "    print('{}'.format(subj_id))\n",
    "    \n",
    "    # Grab Channel information\n",
    "    try:\n",
    "        ref = df_meta['subject']['Channels'][subj_ii, 0]\n",
    "        chan_lbl = [''.join(unichr(c) for c in df_meta[rr]) \\\n",
    "                    for rr in df_meta[ref][0, :]]\n",
    "    except:\n",
    "        continue\n",
    "\n",
    "    # Find ictal epochs\n",
    "    ictal_path = np.sort(glob.glob('{}/{}/{}-ictal-block-*.mat'.format(\n",
    "                path_MetaData, subj_id, subj_id)))\n",
    "    \n",
    "    # Find SOZ/NSOZ Channels\n",
    "    soz_list = []\n",
    "    nsoz_list = []\n",
    "    for pth in ictal_path:\n",
    "        df_signal = h5py.File(pth, 'r')\n",
    "    \n",
    "        if len(df_signal['channels_soz'].shape) < 2:\n",
    "            continue\n",
    "        soz_lbl = [''.join(unichr(c) for c in df_signal[r]) \\\n",
    "                    for r in df_signal['channels_soz'][0, :]]\n",
    "        soz_idx = np.array(\n",
    "            [chan_idx for chan_idx in xrange(len(chan_lbl)) \\\n",
    "                if chan_lbl[chan_idx] in soz_lbl])\n",
    "        for ix in soz_idx:\n",
    "            soz_list.append(ix)\n",
    "    soz_list = np.unique(soz_list)\n",
    "    if len(soz_list) < 2:\n",
    "        print('No SOZ')\n",
    "        continue\n",
    "    if len(soz_list) == len(chan_lbl):\n",
    "        print('Diffuse Onset')\n",
    "        continue\n",
    "    nsoz_list = np.setdiff1d(np.arange(len(chan_lbl)),\n",
    "                             soz_list)\n",
    "    \n",
    "    # Get the block and cluster assignments\n",
    "    try:\n",
    "        block_subg = np.load('{}/NMF_Subgraph_Ensemble.{}.npz'.format(path_InpData_Cocl, subj_id))['subg_ensemble_matr']\n",
    "        block_subg_null = np.load('{}/NMF_Subgraph_Ensemble.NULL.{}.npz'.format(path_InpData_Cocl, subj_id))['subg_ensemble_matr']\n",
    "        block_expr = np.load('{}/NMF_Subgraph_Ensemble.{}.npz'.format(path_InpData_Cocl, subj_id))['expr_ensemble_matr']\n",
    "        \n",
    "        block_epoch = np.load('{}/NMF_Subgraph_Ensemble.{}.npz'.format(path_InpData_Cocl, subj_id))['block_ensemble_matr']\n",
    "        block_epoch_null = np.load('{}/NMF_Subgraph_Ensemble.NULL.{}.npz'.format(path_InpData_Cocl, subj_id))['block_ensemble_matr']\n",
    "        \n",
    "        clust = np.load('{}/NMF_Subgraph_States.{}.npz'.format(path_InpData_Cocl, subj_id))['states']\n",
    "        clust_null = np.load('{}/NMF_Subgraph_States.NULL.{}.npz'.format(path_InpData_Cocl, subj_id))['states']\n",
    "        \n",
    "        block_locs = np.load('{}/NMF_Subgraph_Projection.{}.npz'.format(path_InpData_Cocl, subj_id))['block_locs']        \n",
    "        block_locs_null = np.load('{}/NMF_Subgraph_Projection.NULL.{}.npz'.format(path_InpData_Cocl, subj_id))['block_locs']        \n",
    "    except IOError:\n",
    "        continue\n",
    "        \n",
    "    subj_dict[subj_id] = {}\n",
    "    subj_dict[subj_id]['Real_Cluster'] = {}\n",
    "    subj_dict[subj_id]['Null_Cluster'] = {}    \n",
    "        \n",
    "    subj_dict[subj_id]['Real_Cluster']['epoch_subg'] = block_subg\n",
    "    subj_dict[subj_id]['Null_Cluster']['epoch_subg'] = block_subg_null\n",
    "    subj_dict[subj_id]['Real_Cluster']['epoch_expr'] = block_expr\n",
    "    \n",
    "    subj_dict[subj_id]['Real_Cluster']['epoch_full_lbl'] = block_epoch\n",
    "    subj_dict[subj_id]['Null_Cluster']['epoch_full_lbl'] = block_epoch_null\n",
    "    \n",
    "    subj_dict[subj_id]['Real_Cluster']['epoch_lbl'] = np.array([epoch_str.split('.')[1] for epoch_str in block_epoch])\n",
    "    subj_dict[subj_id]['Null_Cluster']['epoch_lbl'] = np.array([epoch_str.split('.')[1] for epoch_str in block_epoch_null])\n",
    "\n",
    "    subj_dict[subj_id]['Real_Cluster']['epoch_id'] = np.unique(subj_dict[subj_id]['Real_Cluster']['epoch_lbl'])  \n",
    "    subj_dict[subj_id]['Null_Cluster']['epoch_id'] = np.unique(subj_dict[subj_id]['Null_Cluster']['epoch_lbl'])\n",
    "    \n",
    "    subj_dict[subj_id]['Real_Cluster']['clust_lbl'] = clust\n",
    "    subj_dict[subj_id]['Null_Cluster']['clust_lbl'] = clust_null\n",
    "\n",
    "    subj_dict[subj_id]['Real_Cluster']['clust_id'] = np.unique(clust)\n",
    "    subj_dict[subj_id]['Null_Cluster']['clust_id'] = np.unique(clust_null)\n",
    "    \n",
    "    subj_dict[subj_id]['Real_Cluster']['n_clust'] = len(subj_dict[subj_id]['Real_Cluster']['clust_id'])\n",
    "    subj_dict[subj_id]['Null_Cluster']['n_clust'] = len(subj_dict[subj_id]['Null_Cluster']['clust_id'])    \n",
    "        \n",
    "    subj_dict[subj_id]['Real_Cluster']['projection'] = block_locs\n",
    "    subj_dict[subj_id]['Null_Cluster']['projection'] = block_locs_null  \n",
    "    \n",
    "    subj_dict[subj_id]['SOZ_Channels'] = soz_list\n",
    "    subj_dict[subj_id]['NSOZ_Channels'] = nsoz_list    \n",
    "\n",
    "n_subj = len(subj_dict.keys())\n",
    "subj_key = np.sort(subj_dict.keys())    "
   ]
  },
  {
   "cell_type": "markdown",
   "metadata": {},
   "source": [
    "# Plot Real and Null Subgraphs"
   ]
  },
  {
   "cell_type": "code",
   "execution_count": 83,
   "metadata": {
    "ExecuteTime": {
     "end_time": "2016-10-25T10:41:18.646592",
     "start_time": "2016-10-25T10:41:15.969398"
    },
    "collapsed": false,
    "scrolled": false
   },
   "outputs": [
    {
     "name": "stdout",
     "output_type": "stream",
     "text": [
      "(u'MAYO023', 'MAYO023.interictal.358')\n"
     ]
    },
    {
     "data": {
      "image/png": "[encoded data removed]",
      "text/plain": [
       "<matplotlib.figure.Figure at 0x7fb981a11d90>"
      ]
     },
     "metadata": {},
     "output_type": "display_data"
    },
    {
     "data": {
      "image/png": "[encoded data removed]",
      "text/plain": [
       "<matplotlib.figure.Figure at 0x7fb98128cf10>"
      ]
     },
     "metadata": {},
     "output_type": "display_data"
    }
   ],
   "source": [
    "%matplotlib inline\n",
    "\n",
    "subj_id = np.random.permutation(subj_dict.keys())[0]\n",
    "epoch_lbl = np.random.permutation(np.unique(subj_dict[subj_id]['Real_Cluster']['epoch_full_lbl']))[0]\n",
    "epoch_ix = np.flatnonzero(subj_dict[subj_id]['Real_Cluster']['epoch_full_lbl'] == epoch_lbl)\n",
    "\n",
    "print(subj_id, epoch_lbl)\n",
    "\n",
    "real_subg = subj_dict[subj_id]['Real_Cluster']['epoch_subg'][epoch_ix, :]\n",
    "null_subg = subj_dict[subj_id]['Null_Cluster']['epoch_subg'][epoch_ix, :]\n",
    "\n",
    "n_fac = np.float(real_subg.shape[0])\n",
    "n_conn = np.float(real_subg.shape[1])\n",
    "\n",
    "plt.figure()\n",
    "ax = plt.subplot(111)\n",
    "mat = ax.matshow(real_subg.T, aspect=n_fac/n_conn, cmap='coolwarm')\n",
    "ax.xaxis.set_ticks_position('bottom')\n",
    "ax.yaxis.set_ticks_position('left')\n",
    "plt.savefig('./e06-Figures/Subgraph_Cfg_Matr.Real.svg')\n",
    "\n",
    "plt.figure()\n",
    "ax = plt.subplot(111)\n",
    "mat = ax.matshow(null_subg.T, aspect=n_fac/n_conn, cmap='coolwarm')\n",
    "ax.xaxis.set_ticks_position('bottom')\n",
    "ax.yaxis.set_ticks_position('left')\n",
    "plt.savefig('./e06-Figures/Subgraph_Cfg_Matr.Null.svg')"
   ]
  },
  {
   "cell_type": "markdown",
   "metadata": {},
   "source": [
    "# Plot Consensus Similarity Matrix"
   ]
  },
  {
   "cell_type": "code",
   "execution_count": 6,
   "metadata": {
    "ExecuteTime": {
     "end_time": "2016-10-25T12:10:20.018521",
     "start_time": "2016-10-25T12:10:18.592828"
    },
    "collapsed": false
   },
   "outputs": [],
   "source": [
    "%matplotlib inline\n",
    "\n",
    "subj_id = 'MAYO023' #np.random.permutation(subj_dict.keys())[0]\n",
    "\n",
    "df_real = np.load('{}/NMF_Subgraph_Similarity.{}.npz'.format(path_InpData_Cocl, subj_id))\n",
    "df_null = np.load('{}/NMF_Subgraph_Similarity.NULL.{}.npz'.format(path_InpData_Cocl, subj_id))\n",
    "clust_real = subj_dict[subj_id]['Real_Cluster']['clust_lbl']\n",
    "clust_null = subj_dict[subj_id]['Null_Cluster']['clust_lbl']\n",
    "\n",
    "\n",
    "sim_matr = []\n",
    "for df, clust in [(df_real, clust_real),\n",
    "                  (df_null, clust_null)]:\n",
    "    M = sp.csr_matrix((df['M_data'], df['M_indices'], df['M_indptr']), shape=df['M_shape']).A\n",
    "    \n",
    "    # Reorder by cluster assignment\n",
    "    clust_ix = np.argsort(clust)\n",
    "    M = M[clust_ix, :][:, clust_ix]\n",
    "    sim_matr.append(M)\n",
    "\n",
    "plt.figure()\n",
    "ax = plt.subplot(111)\n",
    "mat = ax.matshow(sim_matr[0], cmap='coolwarm')\n",
    "ax.set_axis_off()\n",
    "plt.savefig('./e06-Figures/Subgraph_Similarity.Real.svg')\n",
    "plt.close()\n",
    "\n",
    "plt.figure()\n",
    "ax = plt.subplot(111)\n",
    "mat = ax.matshow(sim_matr[1], cmap='coolwarm')\n",
    "ax.set_axis_off()\n",
    "plt.savefig('./e06-Figures/Subgraph_Similarity.Null.svg')\n",
    "plt.close()"
   ]
  },
  {
   "cell_type": "markdown",
   "metadata": {},
   "source": [
    "# SOZ Sensitivity Index"
   ]
  },
  {
   "cell_type": "code",
   "execution_count": 6,
   "metadata": {
    "ExecuteTime": {
     "end_time": "2016-10-28T15:06:46.163502",
     "start_time": "2016-10-28T15:04:16.629450"
    },
    "collapsed": false
   },
   "outputs": [
    {
     "name": "stdout",
     "output_type": "stream",
     "text": [
      "HUP64\n",
      "HUP65\n",
      "HUP68\n",
      "HUP72\n",
      "HUP73\n",
      "HUP79\n",
      "HUP86\n",
      "HUP87\n",
      "MAYO004\n",
      "MAYO006\n",
      "MAYO010\n",
      "MAYO011\n",
      "MAYO016\n",
      "MAYO019\n",
      "MAYO020\n",
      "MAYO023\n",
      "MAYO026\n",
      "MAYO031\n",
      "MAYO037\n"
     ]
    }
   ],
   "source": [
    "def sensitivity_index(adj, in_chan, out_chan):\n",
    "\n",
    "    ix, iy = np.mgrid[0:len(in_chan), 0:len(in_chan)]\n",
    "    in_conn = adj[in_chan[ix], in_chan[iy]]\n",
    "    in_conn_str = np.sum(in_conn) / (len(in_chan)*(len(in_chan)-1))\n",
    "\n",
    "    ix, iy = np.mgrid[0:len(out_chan), 0:len(out_chan)]\n",
    "    out_conn = adj[out_chan[ix], out_chan[iy]]\n",
    "    out_conn_str = np.sum(out_conn) / (len(out_chan)*(len(out_chan)-1))\n",
    "\n",
    "    sens_index = (in_conn_str - out_conn_str) / (in_conn_str + out_conn_str)\n",
    "    \n",
    "    return sens_index\n",
    "\n",
    "                \n",
    "data_table = {'Subject': [],\n",
    "              'Model': [],\n",
    "              'Epoch': [],\n",
    "              'Block_Ix': [],\n",
    "              'Cluster_ID': [], \n",
    "              'Expr_Energy': [],\n",
    "              'Expr_Skew': [],\n",
    "              'Sens_Index': [],\n",
    "              'Sens_Index_Null': []}\n",
    "\n",
    "for subj_ii, subj_id in enumerate(subj_key):\n",
    "    print(subj_id)\n",
    "    \n",
    "    soz_chan = subj_dict[subj_id]['SOZ_Channels']\n",
    "    nsoz_chan = subj_dict[subj_id]['NSOZ_Channels']    \n",
    "\n",
    "    for model_id in ['Real_Cluster']:        \n",
    "        for epoch_id in ['ictal', 'interictal']:\n",
    "            \n",
    "            ep_ix = np.flatnonzero(subj_dict[subj_id][model_id]['epoch_lbl'] == epoch_id)\n",
    "            for pt_ix in ep_ix:\n",
    "\n",
    "                # Cluster ID for the sample\n",
    "                cl_id = subj_dict[subj_id][model_id]['clust_lbl'][pt_ix]\n",
    "\n",
    "                # Subgraph for the sample\n",
    "                expr = subj_dict[subj_id][model_id]['epoch_expr'][pt_ix]\n",
    "                expr /= expr.max()\n",
    "                subg = subj_dict[subj_id][model_id]['epoch_subg'][pt_ix]\n",
    "                adj = conv_cfg_vec_to_adj_matr(subg) \n",
    "                \n",
    "                # Permute the channel labels\n",
    "                rnd_chan_perm = np.random.permutation(adj.shape[0])\n",
    "                soz_chan_null = rnd_chan_perm[:len(soz_chan)]\n",
    "                nsoz_chan_null = rnd_chan_perm[len(soz_chan):]\n",
    "\n",
    "                # Compute True and Null Sensitivity Index\n",
    "                sens_index_true = sensitivity_index(adj, soz_chan, nsoz_chan)\n",
    "                sens_index_null = sensitivity_index(adj, soz_chan_null, nsoz_chan_null)    \n",
    "                \n",
    "                # Compute Expression Skew\n",
    "                expr_energy = np.mean(expr**2)\n",
    "                expr_skew = stats.skew(expr)\n",
    "\n",
    "\n",
    "                data_table['Subject'].append(subj_id)\n",
    "                data_table['Model'].append(model_id)\n",
    "                data_table['Epoch'].append(epoch_id)\n",
    "                data_table['Block_Ix'].append(pt_ix)\n",
    "                data_table['Cluster_ID'].append(cl_id)\n",
    "                data_table['Expr_Energy'].append(expr_energy)\n",
    "                data_table['Expr_Skew'].append(expr_skew)                    \n",
    "                data_table['Sens_Index'].append(sens_index_true)\n",
    "                data_table['Sens_Index_Null'].append(sens_index_null)\n",
    "\n",
    "# Save Data Table for R-stats\n",
    "df = pd.DataFrame(data_table, columns=data_table.keys())\n",
    "df.to_csv('./e06-R_Stats/soz_activation.csv')"
   ]
  },
  {
   "cell_type": "markdown",
   "metadata": {
    "collapsed": true
   },
   "source": [
    "# Ranked SOZ Sensitivity Cluster"
   ]
  },
  {
   "cell_type": "code",
   "execution_count": 7,
   "metadata": {
    "ExecuteTime": {
     "end_time": "2016-10-28T15:10:20.853006",
     "start_time": "2016-10-28T15:10:16.669662"
    },
    "collapsed": false
   },
   "outputs": [
    {
     "name": "stderr",
     "output_type": "stream",
     "text": [
      "/mnt/castor/seas_home/a/ankk/Developer/miniconda2/envs/cb-resection/lib/python2.7/site-packages/ipykernel/__main__.py:6: FutureWarning: iterkv is deprecated and will be removed in a future release, use ``iteritems`` instead.\n"
     ]
    }
   ],
   "source": [
    "df = pd.read_csv('./e06-R_Stats/soz_activation.csv')\n",
    "df_grp = df.groupby([df['Subject'], df['Epoch'], df['Cluster_ID']]).mean().unstack()\n",
    "\n",
    "df['New_Cluster_ID'] = np.nan\n",
    "\n",
    "for (subj_id, epoch_id), sel in df_grp.T.iterkv():\n",
    "    if not epoch_id == 'interictal':\n",
    "        continue\n",
    "\n",
    "    cl_id = subj_dict[subj_id]['Real_Cluster']['clust_id']\n",
    "    srt_cluster_id = cl_id[np.argsort(sel['Sens_Index'][cl_id])[::-1]]\n",
    "    \n",
    "    for id_new, id_orig in enumerate(srt_cluster_id):\n",
    "        df.loc[(df['Subject'] == subj_id) & (df['Cluster_ID'] == id_orig), 'New_Cluster_ID'] = id_new\n",
    "        \n",
    "df['New_Cluster_ID'] = df['New_Cluster_ID'].astype(int)\n",
    "\n",
    "# Save Data Table for R-stats\n",
    "df.to_csv('./e06-R_Stats/soz_activation.csv')"
   ]
  },
  {
   "cell_type": "markdown",
   "metadata": {},
   "source": [
    "## Plot SOZ Sensitivity Ranking"
   ]
  },
  {
   "cell_type": "code",
   "execution_count": 36,
   "metadata": {
    "ExecuteTime": {
     "end_time": "2016-11-02T13:49:16.823162",
     "start_time": "2016-11-02T13:49:15.299637"
    },
    "collapsed": false
   },
   "outputs": [
    {
     "name": "stdout",
     "output_type": "stream",
     "text": [
      "Ttest_relResult(statistic=8.18706162373506, pvalue=1.7605890772505831e-07)\n",
      "(0.31128335644161564, 0.037607408023085279)\n",
      "(-0.020541147879017382, 0.0061288574405527207)\n",
      " \n",
      "Ttest_relResult(statistic=5.5751236946810376, pvalue=2.7213680894681849e-05)\n",
      "(0.14951827601267773, 0.028366271498720681)\n",
      "(-0.016826712780857411, 0.0049412538197739966)\n",
      " \n",
      "Ttest_relResult(statistic=3.7505964947038528, pvalue=0.0014639966817301419)\n",
      "(0.079023610843624789, 0.024430313774445427)\n",
      "(-0.017633244398401547, 0.0050640715632608406)\n",
      " \n",
      "Ttest_relResult(statistic=1.860946498145027, pvalue=0.079167039116212978)\n",
      "(0.01251563515290198, 0.021197873221341229)\n",
      "(-0.025913788703348529, 0.009759526377041047)\n",
      " \n",
      "Ttest_relResult(statistic=-1.4665513984611385, pvalue=0.15975166931555937)\n",
      "(-0.050784264643455104, 0.02075301466320462)\n",
      "(-0.01878685925867064, 0.0053644941709519575)\n",
      " \n",
      "Ttest_relResult(statistic=-3.9721762572998589, pvalue=0.00089352499092462548)\n",
      "(-0.10091249615191036, 0.020123661686789876)\n",
      "(-0.022767374708829724, 0.0054662622924533969)\n",
      " \n"
     ]
    },
    {
     "data": {
      "image/png": "[encoded data removed]",
      "text/plain": [
       "<matplotlib.figure.Figure at 0x7fab0a04a210>"
      ]
     },
     "metadata": {},
     "output_type": "display_data"
    }
   ],
   "source": [
    "df = pd.read_csv('./e06-R_Stats/soz_activation.csv')\n",
    "sel_epoch = df[df['Epoch'] == 'interictal']\n",
    "n_clust = 6\n",
    "\n",
    "%matplotlib inline\n",
    "color = {'Sens_Index_Null': [0.8, 0.8, 0.8],\n",
    "         'Sens_Index': [0.4, 0.7, 1]}\n",
    "        \n",
    "plt.figure()\n",
    "ax = plt.subplot(111)\n",
    "\n",
    "for clust_ii, clust_id in enumerate(np.arange(n_clust)):\n",
    "    sel_clust = sel_epoch[sel_epoch['New_Cluster_ID'] == clust_id]\n",
    "    sel_sens_index = sel_clust['Sens_Index'].groupby(sel_clust['Subject']).mean()\n",
    "    sel_sens_index_null = sel_clust['Sens_Index_Null'].groupby(sel_clust['Subject']).mean()\n",
    "    \n",
    "    bplot = ax.boxplot([sel_sens_index, sel_sens_index_null], \n",
    "                       positions=[clust_ii-0.1, clust_ii+0.1],\n",
    "                       widths=[0.2, 0.2], whis=[5, 95],\n",
    "                       patch_artist=True)\n",
    "    fig_plotting.set_box_color(bplot, 'k', [color['Sens_Index'],\n",
    "                                            color['Sens_Index_Null']])\n",
    "\n",
    "    print(stats.ttest_rel(sel_sens_index, sel_sens_index_null))\n",
    "    print(sel_sens_index.mean(), sel_sens_index.std()/np.sqrt(len(sel_sens_index)))\n",
    "    print(sel_sens_index_null.mean(), sel_sens_index_null.std()/np.sqrt(len(sel_sens_index_null)))\n",
    "    print(' ')\n",
    "\n",
    "    \n",
    "ax.set_xlim([-0.5, clust_ii+0.5])        \n",
    "plt.xticks(np.arange(n_clust),\n",
    "           np.arange(n_clust))\n",
    "ax.xaxis.set_ticks_position('bottom')\n",
    "\n",
    "ax.set_ylim([-1.0, 1.0])        \n",
    "ax.set_yticks(np.linspace(-1.0, 1.0, 5))\n",
    "ax.yaxis.set_ticks_position('left')\n",
    "ax.set_ylabel('SOZ Sensitivity Index')\n",
    "\n",
    "plt.savefig('./e06-Figures/SOZ_Sensitive_Cluster.svg')\n",
    "plt.show()"
   ]
  },
  {
   "cell_type": "markdown",
   "metadata": {
    "ExecuteTime": {
     "end_time": "2016-10-19T09:50:43.329414",
     "start_time": "2016-10-19T09:50:42.940647"
    }
   },
   "source": [
    "## Plot Expression-Based SOZ Sensitivity Prediction"
   ]
  },
  {
   "cell_type": "code",
   "execution_count": 37,
   "metadata": {
    "ExecuteTime": {
     "end_time": "2016-11-02T15:38:48.478400",
     "start_time": "2016-11-02T15:38:40.300252"
    },
    "collapsed": false
   },
   "outputs": [
    {
     "name": "stdout",
     "output_type": "stream",
     "text": [
      "Ttest_relResult(statistic=-3.2117877688648271, pvalue=0.0048355156446674508)\n",
      "(0.16557049710529723, 0.012236814147477619)\n",
      "(0.20190708526606305, 0.0046213477891788512)\n",
      " \n",
      "Ttest_relResult(statistic=0.91351984078164705, pvalue=0.37304385375008509)\n",
      "(0.21121591007495977, 0.019331156664897171)\n",
      "(0.19208339685875223, 0.0072055083859665419)\n",
      " \n",
      "Ttest_relResult(statistic=0.10319626888725682, pvalue=0.9189482538272159)\n",
      "(0.19729393867787806, 0.014865680345646492)\n",
      "(0.1954486833603743, 0.0062164830736320771)\n",
      " \n",
      "Ttest_relResult(statistic=-0.58566299297042779, pvalue=0.56537348549373512)\n",
      "(0.18751227655561295, 0.017612683122845894)\n",
      "(0.19830468680845603, 0.0050210574291598645)\n",
      " \n",
      "Ttest_relResult(statistic=-0.8045209281071195, pvalue=0.43159457375635768)\n",
      "(0.18854885387148587, 0.011744522460184349)\n",
      "(0.19816640962792881, 0.0052486844747628566)\n",
      " \n",
      "Ttest_relResult(statistic=0.77062571733500973, pvalue=0.45092604505721234)\n",
      "(0.21328439436567981, 0.021438682619963945)\n",
      "(0.19615934342175106, 0.0048661862418967056)\n",
      " \n"
     ]
    },
    {
     "data": {
      "image/png": "[encoded data removed]",
      "text/plain": [
       "<matplotlib.figure.Figure at 0x7fa946964a50>"
      ]
     },
     "metadata": {},
     "output_type": "display_data"
    }
   ],
   "source": [
    "df = pd.read_csv('./e06-R_Stats/soz_activation.csv')\n",
    "sel_epoch = df[df['Epoch'] == 'interictal']\n",
    "n_clust = 6\n",
    "\n",
    "%matplotlib inline\n",
    "color = {'Expr_Altr': [0.8, 0.8, 0.8],\n",
    "         'Expr_Main': [0.4, 0.7, 1]}\n",
    "        \n",
    "plt.figure()\n",
    "ax = plt.subplot(111)\n",
    "\n",
    "for clust_ii, clust_id in enumerate(np.arange(n_clust)):\n",
    "    sel_clust_main = sel_epoch[sel_epoch['New_Cluster_ID'] == clust_id]\n",
    "    sel_clust_altr = sel_epoch[sel_epoch['New_Cluster_ID'] != clust_id]    \n",
    "    \n",
    "    sel_expr_main = sel_clust_main['Expr_Energy'].groupby(df['Subject']).mean()\n",
    "    sel_expr_altr = sel_clust_altr['Expr_Energy'].groupby(df['Subject']).mean()    \n",
    "        \n",
    "    bplot = ax.boxplot([sel_expr_main, sel_expr_altr],\n",
    "                       positions=[clust_ii-0.1, clust_ii+0.1],\n",
    "                       widths=[0.2, 0.2], whis=[5, 95],\n",
    "                       patch_artist=True)\n",
    "    fig_plotting.set_box_color(bplot, 'k', [color['Expr_Main'],\n",
    "                                            color['Expr_Altr']])\n",
    "\n",
    "    print(stats.ttest_rel(sel_expr_main, sel_expr_altr))\n",
    "    print(sel_expr_main.mean(), sel_expr_main.std()/np.sqrt(len(sel_expr_main)))\n",
    "    print(sel_expr_altr.mean(), sel_expr_altr.std()/np.sqrt(len(sel_expr_altr)))\n",
    "    print(' ')\n",
    "    \n",
    "\n",
    "    \n",
    "ax.set_xlim([-0.5, clust_ii+0.5])        \n",
    "plt.xticks(np.arange(n_clust),\n",
    "           np.arange(n_clust))\n",
    "ax.xaxis.set_ticks_position('bottom')\n",
    "\n",
    "ax.set_ylim([0.0, 0.5])        \n",
    "ax.set_yticks(np.linspace(0.0, 0.5, 5))\n",
    "ax.yaxis.set_ticks_position('left')\n",
    "ax.set_ylabel('Expression Energy')\n",
    "\n",
    "plt.savefig('./e06-Figures/SOZ_Sensitive_Predict.svg')\n",
    "plt.show()"
   ]
  },
  {
   "cell_type": "markdown",
   "metadata": {},
   "source": [
    "## Plot Cluster Subgraphs"
   ]
  },
  {
   "cell_type": "code",
   "execution_count": 121,
   "metadata": {
    "ExecuteTime": {
     "end_time": "2016-10-26T17:00:18.233641",
     "start_time": "2016-10-26T16:59:04.089952"
    },
    "collapsed": false
   },
   "outputs": [],
   "source": [
    "df = pd.read_csv('./e06-R_Stats/soz_activation.csv')\n",
    "sel_model = df[df['Model'] == 'Real_Cluster']\n",
    "sel_epoch = sel_model[df['Epoch'] == 'interictal']\n",
    "n_clust = 6\n",
    "\n",
    "%matplotlib inline        \n",
    "\n",
    "for subj_ii, subj_id in enumerate(np.unique(df['Subject'])):\n",
    "    sel_subj = sel_epoch[sel_epoch['Subject'] == subj_id]\n",
    "\n",
    "    for clust_id in xrange(n_clust):\n",
    "        sel_clust_new = sel_subj[sel_subj['New_Cluster_ID'] == clust_id]\n",
    "        \n",
    "        # Median Cluster Index\n",
    "        med_ix = np.argmax(np.abs(sel_clust_new['Sens_Index']))\n",
    "        block_ix = sel_clust_new.ix[med_ix].Block_Ix\n",
    "\n",
    "        # Subgraph\n",
    "        subg = subj_dict[subj_id]['Real_Cluster']['epoch_subg'][block_ix]\n",
    "        adj = conv_cfg_vec_to_adj_matr(subg)\n",
    "        chan_ix = np.concatenate((subj_dict[subj_id]['SOZ_Channels'],\n",
    "                                  subj_dict[subj_id]['NSOZ_Channels']))\n",
    "        \n",
    "        plt.figure()\n",
    "        ax = plt.subplot(111)\n",
    "        mat = ax.matshow(adj[:, chan_ix][chan_ix, :], cmap='coolwarm')\n",
    "        ax.vlines(len(subj_dict[subj_id]['SOZ_Channels']), 0, adj.shape[0]-1)\n",
    "        ax.hlines(len(subj_dict[subj_id]['SOZ_Channels']), 0, adj.shape[0]-1)\n",
    "        plt.colorbar(mat, ax=ax)\n",
    "        ax.set_title('%0.3f' % sel_clust_new.ix[med_ix].Sens_Index)\n",
    "        ax.set_axis_off()\n",
    "        plt.savefig('./e06-Figures/Subgraph.Cluster_{}.{}.svg'.format(clust_id+1, subj_id))\n",
    "        plt.close()"
   ]
  },
  {
   "cell_type": "markdown",
   "metadata": {},
   "source": [
    "## Plot Cluster Expression"
   ]
  },
  {
   "cell_type": "code",
   "execution_count": 120,
   "metadata": {
    "ExecuteTime": {
     "end_time": "2016-10-26T16:56:48.848112",
     "start_time": "2016-10-26T16:56:36.177606"
    },
    "collapsed": false
   },
   "outputs": [],
   "source": [
    "df = pd.read_csv('./e06-R_Stats/soz_activation.csv')\n",
    "sel_model = df[df['Model'] == 'Real_Cluster']\n",
    "sel_epoch = sel_model[df['Epoch'] == 'interictal']\n",
    "n_clust = 6\n",
    "\n",
    "pct = [33, 66]\n",
    "\n",
    "%matplotlib inline        \n",
    "\n",
    "for subj_ii, subj_id in enumerate(np.unique(df['Subject'])):\n",
    "    sel_subj = sel_epoch[sel_epoch['Subject'] == subj_id]\n",
    "\n",
    "    expr_matr = []\n",
    "\n",
    "    # Expression (Low Energy / Low Skew)\n",
    "    med_ix = np.flatnonzero((sel_subj['Expr_Energy'] < np.percentile(sel_subj['Expr_Energy'], pct[0])) &\n",
    "                            (sel_subj['Expr_Skew'] < np.percentile(sel_subj['Expr_Skew'], pct[0])))\n",
    "    try:\n",
    "        block_ix = sel_subj.iloc[med_ix[0]].Block_Ix\n",
    "        expr_matr.append(subj_dict[subj_id]['Real_Cluster']['epoch_expr'][block_ix])\n",
    "    except:\n",
    "        continue\n",
    "\n",
    "    # Expression (High Energy / Low Skew)\n",
    "    med_ix = np.flatnonzero((sel_subj['Expr_Energy'] > np.percentile(sel_subj['Expr_Energy'], pct[1])) &\n",
    "                            (sel_subj['Expr_Skew'] < np.percentile(sel_subj['Expr_Skew'], pct[0])))\n",
    "    try:\n",
    "        block_ix = sel_subj.iloc[med_ix[0]].Block_Ix\n",
    "        expr_matr.append(subj_dict[subj_id]['Real_Cluster']['epoch_expr'][block_ix])\n",
    "    except:\n",
    "        continue\n",
    "    \n",
    "    # Expression (Low Energy / High Skew)\n",
    "    med_ix = np.flatnonzero((sel_subj['Expr_Energy'] < np.percentile(sel_subj['Expr_Energy'], pct[0])) &\n",
    "                            (sel_subj['Expr_Skew'] > np.percentile(sel_subj['Expr_Skew'], pct[1])))\n",
    "    try:\n",
    "        block_ix = sel_subj.iloc[med_ix[0]].Block_Ix\n",
    "        expr_matr.append(subj_dict[subj_id]['Real_Cluster']['epoch_expr'][block_ix])\n",
    "    except:\n",
    "        continue\n",
    "\n",
    "    # Expression (High Energy / High Skew)\n",
    "    med_ix = np.flatnonzero((sel_subj['Expr_Energy'] > np.percentile(sel_subj['Expr_Energy'], pct[1])) &\n",
    "                            (sel_subj['Expr_Skew'] > np.percentile(sel_subj['Expr_Skew'], pct[1])))\n",
    "    try:\n",
    "        block_ix = sel_subj.iloc[med_ix[0]].Block_Ix\n",
    "        expr_matr.append(subj_dict[subj_id]['Real_Cluster']['epoch_expr'][block_ix])\n",
    "    except:\n",
    "        continue\n",
    "    \n",
    "    plt.figure()\n",
    "    ax = plt.subplot(111)\n",
    "    for expr_ii, expr in enumerate(expr_matr):\n",
    "        expr_norm = np.convolve(expr / expr.max(), np.ones(10)/10., mode='valid')\n",
    "        \n",
    "        ax.plot(np.arange(expr_norm.shape[0]),\n",
    "                expr_norm)\n",
    "\n",
    "    ax.set_ylim([0, 1])\n",
    "    #ax.set_xlim([0, 300])\n",
    "    ax.xaxis.set_ticks_position('bottom')\n",
    "    ax.yaxis.set_ticks_position('left')\n",
    "    plt.savefig('./e06-Figures/Expression.Cluster.{}.svg'.format(subj_id))\n",
    "    plt.close()"
   ]
  },
  {
   "cell_type": "markdown",
   "metadata": {},
   "source": [
    "## Plot Expression Dynamics Between Clusters"
   ]
  },
  {
   "cell_type": "code",
   "execution_count": 40,
   "metadata": {
    "ExecuteTime": {
     "end_time": "2016-11-02T16:07:21.945587",
     "start_time": "2016-11-02T16:07:13.613149"
    },
    "collapsed": false
   },
   "outputs": [
    {
     "name": "stdout",
     "output_type": "stream",
     "text": [
      "Ttest_relResult(statistic=0.9031450909313461, pvalue=0.38072407979706202)\n",
      "(1.7005164232473462, 0.25306760946887652)\n",
      "(1.3439740200860939, 0.24331869659955396)\n",
      " \n",
      "Ttest_relResult(statistic=2.1206318158503392, pvalue=0.048102608921257929)\n",
      "(1.2542262977332308, 0.24441211493714454)\n",
      "(0.74861782106966113, 0.19612272791154223)\n",
      " \n"
     ]
    },
    {
     "data": {
      "image/png": "[encoded data removed]",
      "text/plain": [
       "<matplotlib.figure.Figure at 0x7fab0a3429d0>"
      ]
     },
     "metadata": {},
     "output_type": "display_data"
    }
   ],
   "source": [
    "df = pd.read_csv('./e06-R_Stats/soz_activation.csv')\n",
    "n_clust = 6\n",
    "\n",
    "%matplotlib inline\n",
    "color = {'Expr_Altr': [0.8, 0.8, 0.8],\n",
    "         'Expr_Main': [0.4, 0.7, 1]}\n",
    "\n",
    "data_table = {'Epoch': [],\n",
    "              'Cluster_ID': [],\n",
    "              'Skew': []}\n",
    "\n",
    "plt.figure()\n",
    "ax = plt.subplot(111)\n",
    "\n",
    "for epoch_ii, epoch_id in enumerate(np.unique(df['Epoch'])):\n",
    "    sel_epoch = df[df['Epoch'] == epoch_id]\n",
    "    \n",
    "    sel_clust_sens = sel_epoch[sel_epoch['New_Cluster_ID'] == 0]\n",
    "    sel_clust_invsens = sel_epoch[sel_epoch['New_Cluster_ID'] == 5]\n",
    "    \n",
    "    sel_expr_sens = sel_clust_sens['Expr_Skew'].groupby(df['Subject']).mean()\n",
    "    sel_expr_invsens = sel_clust_invsens['Expr_Skew'].groupby(df['Subject']).mean()  \n",
    "        \n",
    "    bplot = ax.boxplot([sel_expr_sens, sel_expr_invsens],\n",
    "                       positions=[epoch_ii-0.05, epoch_ii+0.05],\n",
    "                       widths=[0.1, 0.1], whis=[5, 95],\n",
    "                       patch_artist=True)\n",
    "    fig_plotting.set_box_color(bplot, 'k', [color['Expr_Main'],\n",
    "                                            color['Expr_Altr']])\n",
    "\n",
    "    print(stats.ttest_rel(sel_expr_sens, sel_expr_invsens))\n",
    "    print(sel_expr_sens.mean(), sel_expr_sens.std()/np.sqrt(len(sel_expr_sens)))\n",
    "    print(sel_expr_invsens.mean(), sel_expr_invsens.std()/np.sqrt(len(sel_expr_invsens)))\n",
    "    print(' ')\n",
    "\n",
    "    \n",
    "ax.set_xlim([-0.5, epoch_ii+0.5])        \n",
    "plt.xticks(np.arange(len(np.unique(df['Epoch']))),\n",
    "           np.unique(df['Epoch']))\n",
    "ax.xaxis.set_ticks_position('bottom')\n",
    "\n",
    "ax.set_ylim([-4, 4])        \n",
    "ax.set_yticks(np.linspace(-4, 4, 5))\n",
    "ax.yaxis.set_ticks_position('left')\n",
    "ax.set_ylabel('Expression Skew')\n",
    "\n",
    "plt.savefig('./e06-Figures/SOZ_Sensitive_Skew_both_epochs.svg')\n",
    "plt.show()"
   ]
  },
  {
   "cell_type": "code",
   "execution_count": 39,
   "metadata": {
    "ExecuteTime": {
     "end_time": "2016-11-02T15:53:32.308588",
     "start_time": "2016-11-02T15:53:30.820761"
    },
    "collapsed": false
   },
   "outputs": [
    {
     "name": "stdout",
     "output_type": "stream",
     "text": [
      "Ttest_relResult(statistic=2.1206318158503392, pvalue=0.048102608921257929)\n"
     ]
    },
    {
     "data": {
      "image/png": "[encoded data removed]",
      "text/plain": [
       "<matplotlib.figure.Figure at 0x7fab0a2dba10>"
      ]
     },
     "metadata": {},
     "output_type": "display_data"
    }
   ],
   "source": [
    "df = pd.read_csv('./e06-R_Stats/soz_activation.csv')\n",
    "n_clust = 6\n",
    "\n",
    "%matplotlib inline\n",
    "color = {'Expr_Altr': [0.8, 0.8, 0.8],\n",
    "         'Expr_Main': [0.4, 0.7, 1]}\n",
    "\n",
    "data_table = {'Epoch': [],\n",
    "              'Cluster_ID': [],\n",
    "              'Skew': []}\n",
    "\n",
    "plt.figure()\n",
    "ax = plt.subplot(111)\n",
    "\n",
    "sel_epoch = df[df['Epoch'] == 'interictal']\n",
    "\n",
    "sel_clust_sens = sel_epoch[sel_epoch['New_Cluster_ID'] == 0]\n",
    "sel_clust_invsens = sel_epoch[sel_epoch['New_Cluster_ID'] == 5]\n",
    "\n",
    "sel_expr_sens = sel_clust_sens['Expr_Skew'].groupby(df['Subject']).mean()\n",
    "sel_expr_invsens = sel_clust_invsens['Expr_Skew'].groupby(df['Subject']).mean()  \n",
    "\n",
    "bplot = ax.boxplot([sel_expr_sens, sel_expr_invsens],\n",
    "                   positions=[0, 1],\n",
    "                   widths=[0.15, 0.15], whis=[5, 95],\n",
    "                   patch_artist=True)\n",
    "fig_plotting.set_box_color(bplot, 'k', [color['Expr_Main'],\n",
    "                                        color['Expr_Altr']])\n",
    "\n",
    "print(stats.ttest_rel(sel_expr_sens, sel_expr_invsens))\n",
    "print(sel_expr_main.mean(), sel_expr_main.std()/np.sqrt(len(sel_expr_main)))\n",
    "print(sel_expr_altr.mean(), sel_expr_altr.std()/np.sqrt(len(sel_expr_altr)))\n",
    "print(' ')\n",
    "\n",
    "    \n",
    "ax.set_xlim([-0.5, 1.5])        \n",
    "plt.xticks([0, 1],\n",
    "           ['Cluster 1', 'Cluster 6'])\n",
    "ax.xaxis.set_ticks_position('bottom')\n",
    "\n",
    "ax.set_ylim([-4, 4])        \n",
    "ax.set_yticks(np.linspace(-4, 4, 5))\n",
    "ax.yaxis.set_ticks_position('left')\n",
    "ax.set_ylabel('Expression Skew')\n",
    "\n",
    "plt.savefig('./e06-Figures/SOZ_Sensitive_Skew.svg')\n",
    "plt.show()"
   ]
  },
  {
   "cell_type": "code",
   "execution_count": null,
   "metadata": {
    "collapsed": true
   },
   "outputs": [],
   "source": []
  }
 ],
 "metadata": {
  "kernelspec": {
   "display_name": "Python 2",
   "language": "python",
   "name": "python2"
  },
  "language_info": {
   "codemirror_mode": {
    "name": "ipython",
    "version": 2
   },
   "file_extension": ".py",
   "mimetype": "text/x-python",
   "name": "python",
   "nbconvert_exporter": "python",
   "pygments_lexer": "ipython2",
   "version": "2.7.12"
  },
  "latex_envs": {
   "bibliofile": "biblio.bib",
   "cite_by": "apalike",
   "current_citInitial": 1,
   "eqLabelWithNumbers": true,
   "eqNumInitial": 0
  },
  "toc": {
   "toc_cell": false,
   "toc_number_sections": true,
   "toc_threshold": 6,
   "toc_window_display": false
  }
 },
 "nbformat": 4,
 "nbformat_minor": 0
}
